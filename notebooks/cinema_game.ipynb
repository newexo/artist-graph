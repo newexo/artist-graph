{
 "cells": [
  {
   "cell_type": "code",
   "execution_count": 1,
   "id": "d7680d71-3f1e-4d39-9040-dd00dd52e301",
   "metadata": {},
   "outputs": [],
   "source": [
    "from sqlalchemy import select\n",
    "from sqlalchemy.orm import Session\n",
    "\n",
    "import networkx as nx\n",
    "import pandas as pd\n",
    "import numpy as np\n",
    "import json\n",
    "import time\n"
   ]
  },
  {
   "cell_type": "code",
   "execution_count": 2,
   "id": "a348fb2b-9b32-402d-bc45-992fce0d2a6d",
   "metadata": {},
   "outputs": [],
   "source": [
    "from art_graph import directories\n",
    "from art_graph.cinema_data_providers.imdb_non_commercial.locations import get_sqlite_engine\n",
    "\n",
    "from art_graph.cinema_data_providers.imdb_non_commercial import (\n",
    "    imdb_non_commercial_pydantic_models as imdb_pyd,\n",
    "    imdb_non_commercial_orm_models as imdb_orm,\n",
    ")\n",
    "\n",
    "from art_graph.cinema_data_providers.imdb_non_commercial.queries import (\n",
    "    compute_graph,\n",
    "    full_graph_query,\n",
    "    curated_graph_query,\n",
    "    famous_query,\n",
    ")\n",
    "\n",
    "from art_graph.cinegraph import random_path\n",
    "from art_graph.cinegraph.node_types import PersonNode, WorkNode\n",
    "from art_graph.cinema_data_providers.imdb_non_commercial import (\n",
    "    imdb_non_commercial_orm_models as imdb_orm,\n",
    ")\n",
    "from art_graph.cinema_data_providers.imdb_non_commercial.name_lookup import node_lookup"
   ]
  },
  {
   "cell_type": "code",
   "execution_count": 3,
   "id": "e2cd3f31-77f0-4c71-baea-ab28ad35002e",
   "metadata": {},
   "outputs": [],
   "source": [
    "actor_df = pd.read_csv(directories.data(\"actors.csv\"))\n",
    "primary_names = list(actor_df.name)\n",
    "\n",
    "movie_df = pd.read_csv(directories.data(\"movies.csv\"))\n",
    "original_titles = list(movie_df.title)"
   ]
  },
  {
   "cell_type": "code",
   "execution_count": 4,
   "id": "00a07288-a864-424b-91f6-10124695b126",
   "metadata": {},
   "outputs": [],
   "source": [
    "engine = get_sqlite_engine(\"IM02.db\")"
   ]
  },
  {
   "cell_type": "code",
   "execution_count": 5,
   "id": "4088e27a-58ac-4fdb-9ef4-a991313beb77",
   "metadata": {},
   "outputs": [],
   "source": [
    "# Start a session\n",
    "session = Session(bind=engine)\n"
   ]
  },
  {
   "cell_type": "code",
   "execution_count": 6,
   "id": "02a9c094-ee4f-475a-bc8b-245ba95d9760",
   "metadata": {},
   "outputs": [
    {
     "name": "stdout",
     "output_type": "stream",
     "text": [
      "Total time  0.34\n"
     ]
    }
   ],
   "source": [
    "t0 = time.time()\n",
    "query = curated_graph_query(session, primary_names, original_titles)\n",
    "g_currated = compute_graph(query)\n",
    "print(f\"Total time {(time.time() - t0) / 60 : .2f}\")"
   ]
  },
  {
   "cell_type": "code",
   "execution_count": 7,
   "id": "e4ac19b9-e3fe-456b-868c-eda2a133573f",
   "metadata": {},
   "outputs": [
    {
     "data": {
      "text/plain": [
       "264"
      ]
     },
     "execution_count": 7,
     "metadata": {},
     "output_type": "execute_result"
    }
   ],
   "source": [
    "len(g_currated)"
   ]
  },
  {
   "cell_type": "code",
   "execution_count": 8,
   "id": "f1ac3d1b-aa88-483e-b2e0-e3995e9142c7",
   "metadata": {},
   "outputs": [],
   "source": [
    "query = session.query(imdb_orm.NameBasics).filter(imdb_orm.NameBasics.nconst == 1)"
   ]
  },
  {
   "cell_type": "code",
   "execution_count": 9,
   "id": "e9e7df6c-a2ed-41ef-a67c-a20830a5510e",
   "metadata": {},
   "outputs": [
    {
     "data": {
      "text/plain": [
       "'Fred Astaire'"
      ]
     },
     "execution_count": 9,
     "metadata": {},
     "output_type": "execute_result"
    }
   ],
   "source": [
    "query.all()[0].primaryName"
   ]
  },
  {
   "cell_type": "code",
   "execution_count": 10,
   "id": "88b002f9-9e08-4860-9d21-0785c363160c",
   "metadata": {},
   "outputs": [],
   "source": [
    "path_maker = random_path.PathMaker(g_currated)"
   ]
  },
  {
   "cell_type": "code",
   "execution_count": 11,
   "id": "2414b3fa-1745-4c87-bc31-11386fa96a19",
   "metadata": {},
   "outputs": [],
   "source": [
    "r = np.random.RandomState(42)"
   ]
  },
  {
   "cell_type": "code",
   "execution_count": 12,
   "id": "ef69d45b-be98-4881-b013-aa24a2e89689",
   "metadata": {},
   "outputs": [
    {
     "name": "stdout",
     "output_type": "stream",
     "text": [
      "Kathy Bates -> Titanic -> Leonardo DiCaprio\n",
      "Michael Caine -> The Dark Knight -> Morgan Freeman\n",
      "Michael Fassbender -> 12 Years a Slave -> Brad Pitt\n",
      "Kathy Bates -> Titanic -> Leonardo DiCaprio\n",
      "Renée Zellweger -> Chicago -> Richard Gere\n",
      "Alec Baldwin -> The Aviator -> Leonardo DiCaprio\n"
     ]
    }
   ],
   "source": [
    "for _ in range(6):\n",
    "    a, b = path_maker.make_game(1, r)\n",
    "    path = nx.shortest_path(g_currated, a, b)\n",
    "    print(\" -> \".join([node_lookup(session, node) for node in path]))"
   ]
  },
  {
   "cell_type": "code",
   "execution_count": 13,
   "id": "43e553be-b7a1-4fcd-9ea1-c5289ca1d42f",
   "metadata": {},
   "outputs": [
    {
     "name": "stdout",
     "output_type": "stream",
     "text": [
      "John Malkovich -> Places in the Heart -> Ed Harris -> A Beautiful Mind -> Christopher Plummer\n",
      "Amy Adams -> Her -> Joaquin Phoenix -> Gladiator -> Russell Crowe\n",
      "Christian Bale -> The Dark Knight -> Morgan Freeman -> Million Dollar Baby -> Hilary Swank\n",
      "Forest Whitaker -> Platoon -> Willem Dafoe -> The English Patient -> Ralph Fiennes\n",
      "Bill Murray -> The Grand Budapest Hotel -> Edward Norton -> Fight Club -> Brad Pitt\n",
      "Holly Hunter -> The Incredibles -> Samuel L. Jackson -> Django Unchained -> Christoph Waltz\n"
     ]
    }
   ],
   "source": [
    "for _ in range(6):\n",
    "    a, b = path_maker.make_game(2, r)\n",
    "    path = nx.shortest_path(g_currated, a, b)\n",
    "    print(\" -> \".join([node_lookup(session, node) for node in path]))"
   ]
  },
  {
   "cell_type": "code",
   "execution_count": 14,
   "id": "a097675c-18db-4da5-aa6f-9feecfbe950e",
   "metadata": {},
   "outputs": [
    {
     "name": "stdout",
     "output_type": "stream",
     "text": [
      "Colin Firth -> The King's Speech -> Helena Bonham Carter -> Howards End -> Emma Thompson -> Sense and Sensibility -> Kate Winslet\n",
      "Ralph Fiennes -> Schindler's List -> Liam Neeson -> Gangs of New York -> Leonardo DiCaprio -> The Aviator -> Cate Blanchett\n",
      "Gene Hackman -> Unforgiven -> Morgan Freeman -> The Dark Knight -> Gary Oldman -> JFK -> Kevin Costner\n",
      "Russell Crowe -> A Beautiful Mind -> Ed Harris -> Apollo 13 -> Kevin Bacon -> Mystic River -> Laura Linney\n",
      "Johnny Depp -> Chocolat -> Juliette Binoche -> The English Patient -> Ralph Fiennes -> Schindler's List -> Ben Kingsley\n",
      "Joaquin Phoenix -> Gladiator -> Russell Crowe -> A Beautiful Mind -> Ed Harris -> Places in the Heart -> John Malkovich\n"
     ]
    }
   ],
   "source": [
    "for _ in range(6):\n",
    "    a, b = path_maker.make_game(3, r)\n",
    "    path = nx.shortest_path(g_currated, a, b)\n",
    "    print(\" -> \".join([node_lookup(session, node) for node in path]))"
   ]
  },
  {
   "cell_type": "code",
   "execution_count": 15,
   "id": "4a7437d5-cf20-447d-b97a-a5220730547e",
   "metadata": {},
   "outputs": [
    {
     "name": "stdout",
     "output_type": "stream",
     "text": [
      "Scarlett Johansson -> Lost in Translation -> Bill Murray -> Tootsie -> Dustin Hoffman -> Rain Man -> Tom Cruise -> A Few Good Men -> Jack Nicholson\n",
      "Nicole Kidman -> The Hours -> Julianne Moore -> Magnolia -> Philip Seymour Hoffman -> Scent of a Woman -> Al Pacino -> The Insider -> Christopher Plummer\n",
      "Ralph Fiennes -> The Grand Budapest Hotel -> Bill Murray -> Tootsie -> Dustin Hoffman -> Rain Man -> Tom Cruise -> Magnolia -> Philip Seymour Hoffman\n",
      "Brad Pitt -> The Tree of Life -> Sean Penn -> Mystic River -> Tim Robbins -> The Shawshank Redemption -> Morgan Freeman -> The Dark Knight -> Gary Oldman\n",
      "Liam Neeson -> Schindler's List -> Ralph Fiennes -> The Grand Budapest Hotel -> Bill Murray -> Lost in Translation -> Scarlett Johansson -> Her -> Joaquin Phoenix\n",
      "Christian Bale -> The Dark Knight -> Morgan Freeman -> The Shawshank Redemption -> Tim Robbins -> Mystic River -> Kevin Bacon -> Apollo 13 -> Gary Sinise\n"
     ]
    }
   ],
   "source": [
    "for _ in range(6):\n",
    "    a, b = path_maker.make_game(4, r)\n",
    "    path = nx.shortest_path(g_currated, a, b)\n",
    "    print(\" -> \".join([node_lookup(session, node) for node in path]))"
   ]
  },
  {
   "cell_type": "code",
   "execution_count": 16,
   "id": "48542be6-f587-4a21-b00b-f66ad0886e05",
   "metadata": {},
   "outputs": [
    {
     "name": "stdout",
     "output_type": "stream",
     "text": [
      "Gary Oldman -> The Dark Knight -> Morgan Freeman -> The Shawshank Redemption -> Tim Robbins -> Mystic River -> Sean Penn -> The Tree of Life -> Brad Pitt -> Fight Club -> Edward Norton\n",
      "Judi Dench -> Chocolat -> Johnny Depp -> Finding Neverland -> Dustin Hoffman -> Rain Man -> Tom Cruise -> A Few Good Men -> Kevin Bacon -> Apollo 13 -> Ed Harris\n",
      "Richard Gere -> Chicago -> John C. Reilly -> The Aviator -> Cate Blanchett -> Babel -> Brad Pitt -> The Tree of Life -> Jessica Chastain -> Interstellar -> Ellen Burstyn\n",
      "Ian McKellen -> The Lord of the Rings: The Two Towers -> Cate Blanchett -> The Aviator -> Alec Baldwin -> Working Girl -> Kevin Spacey -> L.A. Confidential -> Russell Crowe -> Gladiator -> Joaquin Phoenix\n",
      "Clint Eastwood -> Unforgiven -> Morgan Freeman -> The Shawshank Redemption -> Tim Robbins -> Mystic River -> Kevin Bacon -> A Few Good Men -> Jack Nicholson -> The Departed -> Leonardo DiCaprio\n",
      "Kate Winslet -> Titanic -> Leonardo DiCaprio -> The Departed -> Matt Damon -> Saving Private Ryan -> Tom Hanks -> Forrest Gump -> Sally Field -> Places in the Heart -> John Malkovich\n"
     ]
    }
   ],
   "source": [
    "for _ in range(6):\n",
    "    a, b = path_maker.make_game(5, r)\n",
    "    path = nx.shortest_path(g_currated, a, b)\n",
    "    print(\" -> \".join([node_lookup(session, node) for node in path]))"
   ]
  },
  {
   "cell_type": "code",
   "execution_count": 17,
   "id": "0ef623d9-6152-4284-9af4-6820a15ab356",
   "metadata": {},
   "outputs": [
    {
     "name": "stdout",
     "output_type": "stream",
     "text": [
      "Dustin Hoffman -> Rain Man -> Tom Cruise -> A Few Good Men -> Kevin Bacon -> Mystic River -> Tim Robbins -> The Shawshank Redemption -> Morgan Freeman -> The Dark Knight -> Gary Oldman -> JFK -> Kevin Costner\n",
      "Octavia Spencer -> Being John Malkovich -> John Malkovich -> Places in the Heart -> Ed Harris -> Apollo 13 -> Kevin Bacon -> Mystic River -> Tim Robbins -> The Shawshank Redemption -> Morgan Freeman -> The Dark Knight -> Michael Caine\n",
      "Nicole Kidman -> The Hours -> Julianne Moore -> Magnolia -> Tom Cruise -> A Few Good Men -> Kevin Bacon -> Mystic River -> Tim Robbins -> The Shawshank Redemption -> Morgan Freeman -> Unforgiven -> Clint Eastwood\n",
      "Chiwetel Ejiofor -> 12 Years a Slave -> Brad Pitt -> Babel -> Cate Blanchett -> The Aviator -> Alec Baldwin -> Working Girl -> Harrison Ford -> The Fugitive -> Julianne Moore -> The Hours -> Meryl Streep\n",
      "Chiwetel Ejiofor -> 12 Years a Slave -> Brad Pitt -> The Tree of Life -> Sean Penn -> Mystic River -> Tim Robbins -> The Shawshank Redemption -> Morgan Freeman -> The Dark Knight -> Gary Oldman -> JFK -> Kevin Costner\n",
      "Marion Cotillard -> Inception -> Leonardo DiCaprio -> The Departed -> Jack Nicholson -> A Few Good Men -> Kevin Bacon -> Mystic River -> Tim Robbins -> The Shawshank Redemption -> Morgan Freeman -> The Dark Knight -> Christian Bale\n"
     ]
    }
   ],
   "source": [
    "for _ in range(6):\n",
    "    a, b = path_maker.make_game(6, r)\n",
    "    path = nx.shortest_path(g_currated, a, b)\n",
    "    print(\" -> \".join([node_lookup(session, node) for node in path]))"
   ]
  },
  {
   "cell_type": "code",
   "execution_count": 18,
   "id": "44661d25-cc43-498b-87ed-3f3a522d9dad",
   "metadata": {},
   "outputs": [
    {
     "name": "stdout",
     "output_type": "stream",
     "text": [
      "Geoffrey Rush -> The King's Speech -> Colin Firth -> The English Patient -> Ralph Fiennes -> The Grand Budapest Hotel -> Bill Murray -> Tootsie -> Dustin Hoffman -> Rain Man -> Tom Cruise -> Magnolia -> Julianne Moore -> The Hours -> Nicole Kidman\n",
      "Russell Crowe -> L.A. Confidential -> Kevin Spacey -> Working Girl -> Alec Baldwin -> The Aviator -> Leonardo DiCaprio -> Gangs of New York -> Daniel Day-Lewis -> In the Name of the Father -> Emma Thompson -> Howards End -> Anthony Hopkins -> The Silence of the Lambs -> Jodie Foster\n",
      "Meryl Streep -> The Hours -> Julianne Moore -> Magnolia -> Tom Cruise -> A Few Good Men -> Kevin Bacon -> Mystic River -> Tim Robbins -> The Shawshank Redemption -> Morgan Freeman -> The Dark Knight -> Gary Oldman -> JFK -> Kevin Costner\n",
      "Kevin Costner -> JFK -> Gary Oldman -> The Dark Knight -> Morgan Freeman -> The Shawshank Redemption -> Tim Robbins -> Mystic River -> Kevin Bacon -> A Few Good Men -> Tom Cruise -> Magnolia -> Philip Seymour Hoffman -> Scent of a Woman -> Al Pacino\n",
      "Kathy Bates -> Titanic -> Leonardo DiCaprio -> The Departed -> Jack Nicholson -> A Few Good Men -> Kevin Bacon -> Mystic River -> Tim Robbins -> The Shawshank Redemption -> Morgan Freeman -> The Dark Knight -> Gary Oldman -> JFK -> Kevin Costner\n",
      "Kate Winslet -> Finding Neverland -> Dustin Hoffman -> Rain Man -> Tom Cruise -> A Few Good Men -> Kevin Bacon -> Mystic River -> Tim Robbins -> The Shawshank Redemption -> Morgan Freeman -> The Dark Knight -> Gary Oldman -> JFK -> Kevin Costner\n"
     ]
    }
   ],
   "source": [
    "for _ in range(6):\n",
    "    a, b = path_maker.make_game(7, r)\n",
    "    path = nx.shortest_path(g_currated, a, b)\n",
    "    print(\" -> \".join([node_lookup(session, node) for node in path]))"
   ]
  },
  {
   "cell_type": "code",
   "execution_count": null,
   "id": "6452caa8-add6-42fd-a784-e594e14da1ac",
   "metadata": {},
   "outputs": [],
   "source": []
  }
 ],
 "metadata": {
  "kernelspec": {
   "display_name": "Python 3 (ipykernel)",
   "language": "python",
   "name": "python3"
  },
  "language_info": {
   "codemirror_mode": {
    "name": "ipython",
    "version": 3
   },
   "file_extension": ".py",
   "mimetype": "text/x-python",
   "name": "python",
   "nbconvert_exporter": "python",
   "pygments_lexer": "ipython3",
   "version": "3.11.10"
  }
 },
 "nbformat": 4,
 "nbformat_minor": 5
}
